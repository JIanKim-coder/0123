{
  "nbformat": 4,
  "nbformat_minor": 0,
  "metadata": {
    "colab": {
      "name": "0123",
      "provenance": [],
      "collapsed_sections": []
    },
    "kernelspec": {
      "name": "python3",
      "display_name": "Python 3"
    },
    "language_info": {
      "name": "python"
    }
  },
  "cells": [
    {
      "cell_type": "code",
      "execution_count": null,
      "metadata": {
        "id": "xF9KKONe1TYz",
        "colab": {
          "base_uri": "https://localhost:8080/"
        },
        "outputId": "c5a0d6fc-c8bd-4bfb-b441-003ef4d1ee1a"
      },
      "outputs": [
        {
          "output_type": "stream",
          "name": "stdout",
          "text": [
            "123\n",
            "None\n",
            "127\n"
          ]
        }
      ],
      "source": [
        "a=123\n",
        "b=print(a)\n",
        "print(b)\n",
        "b=4\n",
        "#definition : 뜻, 정의\n",
        "def plus(a,b):\n",
        "  result = a+b\n",
        "  return result\n",
        "\n",
        "result=plus(a,b)\n",
        "print(result)"
      ]
    },
    {
      "cell_type": "code",
      "source": [
        "a = 'apple'\n",
        "print(a)\n",
        "# i like 'python'\n",
        "# '' . \"\"\n",
        "sentence='i like \"python\"'\n",
        "print(sentence)\n",
        "sentence='i like /'python/''\n",
        "print(sentence)\n",
        "# she says, 'i like python'\n",
        "sentence=\"she says, 'i like python '\"\n",
        "print(sentence)\n"
      ],
      "metadata": {
        "colab": {
          "base_uri": "https://localhost:8080/",
          "height": 137
        },
        "id": "v2kjtTYm3htA",
        "outputId": "e025b0f6-4dcc-4742-fa1c-e1c275b59eee"
      },
      "execution_count": null,
      "outputs": [
        {
          "output_type": "error",
          "ename": "SyntaxError",
          "evalue": "ignored",
          "traceback": [
            "\u001b[0;36m  File \u001b[0;32m\"<ipython-input-9-e967d285e0b3>\"\u001b[0;36m, line \u001b[0;32m7\u001b[0m\n\u001b[0;31m    sentence='i like /'python/''\u001b[0m\n\u001b[0m                            ^\u001b[0m\n\u001b[0;31mSyntaxError\u001b[0m\u001b[0;31m:\u001b[0m invalid syntax\n"
          ]
        }
      ]
    },
    {
      "cell_type": "code",
      "source": [
        "a=\"orange\"\n",
        "b=\"is sweet!\"\n",
        "#length : 길이=> len\n",
        "# 1.len (orange) : 6\n",
        "# 2.print(6)\n",
        "print(len(a))"
      ],
      "metadata": {
        "colab": {
          "base_uri": "https://localhost:8080/"
        },
        "id": "dqBL8Ek934ty",
        "outputId": "438e2b5d-51f7-4053-b5d8-aa1cb9116223"
      },
      "execution_count": null,
      "outputs": [
        {
          "output_type": "stream",
          "name": "stdout",
          "text": [
            "6\n"
          ]
        }
      ]
    },
    {
      "cell_type": "code",
      "source": [
        "#문자(글자) ==> 합:문자열\n",
        "sentence=\"Life is too fun.\"\n",
        "# 인덱싱 index (가리킨다)\n",
        "#print(a[-4])\n",
        "b = a[0]+a[1]+a[2]+a[3]\n",
        "#print(b)\n",
        "\n",
        "# 슬라이싱 slicing : (자르기) : 범위 (시작점/끝점)\n",
        "a= a[0:4]\n",
        "#print(a)\n",
        "a=a[:4]\n",
        "#print(a)\n",
        "a=sentence[-4:]\n",
        "print(a)"
      ],
      "metadata": {
        "colab": {
          "base_uri": "https://localhost:8080/",
          "height": 248
        },
        "id": "rVtTBEW06VkC",
        "outputId": "3b112e45-057c-4d91-8d02-24378658ac59"
      },
      "execution_count": null,
      "outputs": [
        {
          "output_type": "error",
          "ename": "IndexError",
          "evalue": "ignored",
          "traceback": [
            "\u001b[0;31m---------------------------------------------------------------------------\u001b[0m",
            "\u001b[0;31mIndexError\u001b[0m                                Traceback (most recent call last)",
            "\u001b[0;32m<ipython-input-23-bbbba5699bf9>\u001b[0m in \u001b[0;36m<module>\u001b[0;34m()\u001b[0m\n\u001b[1;32m      3\u001b[0m \u001b[0;31m# 인덱싱 index (가리킨다)\u001b[0m\u001b[0;34m\u001b[0m\u001b[0;34m\u001b[0m\u001b[0;34m\u001b[0m\u001b[0m\n\u001b[1;32m      4\u001b[0m \u001b[0;31m#print(a[-4])\u001b[0m\u001b[0;34m\u001b[0m\u001b[0;34m\u001b[0m\u001b[0;34m\u001b[0m\u001b[0m\n\u001b[0;32m----> 5\u001b[0;31m \u001b[0mb\u001b[0m \u001b[0;34m=\u001b[0m \u001b[0ma\u001b[0m\u001b[0;34m[\u001b[0m\u001b[0;36m0\u001b[0m\u001b[0;34m]\u001b[0m\u001b[0;34m+\u001b[0m\u001b[0ma\u001b[0m\u001b[0;34m[\u001b[0m\u001b[0;36m1\u001b[0m\u001b[0;34m]\u001b[0m\u001b[0;34m+\u001b[0m\u001b[0ma\u001b[0m\u001b[0;34m[\u001b[0m\u001b[0;36m2\u001b[0m\u001b[0;34m]\u001b[0m\u001b[0;34m+\u001b[0m\u001b[0ma\u001b[0m\u001b[0;34m[\u001b[0m\u001b[0;36m3\u001b[0m\u001b[0;34m]\u001b[0m\u001b[0;34m\u001b[0m\u001b[0;34m\u001b[0m\u001b[0m\n\u001b[0m\u001b[1;32m      6\u001b[0m \u001b[0;31m#print(b)\u001b[0m\u001b[0;34m\u001b[0m\u001b[0;34m\u001b[0m\u001b[0;34m\u001b[0m\u001b[0m\n\u001b[1;32m      7\u001b[0m \u001b[0;34m\u001b[0m\u001b[0m\n",
            "\u001b[0;31mIndexError\u001b[0m: string index out of range"
          ]
        }
      ]
    },
    {
      "cell_type": "code",
      "source": [
        "# 리스트 list\n",
        "a=3\n",
        "b=2\n",
        "c=5\n",
        "\n",
        "a2=3.4\n",
        "a3='a'\n",
        "a4='apple'\n",
        "\n",
        "data = [3,2,5]\n",
        "print(data)\n",
        "print(data[:-3])\n",
        "\n",
        "data1=[4,5,6]\n",
        "print(data+data1)\n",
        "\n",
        "#data1 = 8\n",
        "data1[1] = 8\n",
        "print(data1)\n",
        "\n",
        "#delete => del\n",
        "del data1[0]\n",
        "print(data1)\n",
        "\n",
        "#append: 추가하다 . \n",
        "data1.append(10)\n",
        "print(data1)\n",
        "\n",
        "data = [1,4,2,9]\n",
        "data.sort()\n",
        "print(data)\n",
        "data.reverse()\n",
        "print(data)\n",
        "\n",
        "data=[4,8]\n",
        "# insert : 삽입하다. 위치에 넣다.\n",
        "data.insert(1,10)\n",
        "print(data)\n",
        "data.append(8)\n",
        "print(data)\n",
        "data.remove(8)\n",
        "print(data)"
      ],
      "metadata": {
        "colab": {
          "base_uri": "https://localhost:8080/"
        },
        "id": "wA7LCW_u9m53",
        "outputId": "0e4a5a4e-e60b-4ca4-cd3d-ecd9b46c1da4"
      },
      "execution_count": null,
      "outputs": [
        {
          "output_type": "stream",
          "name": "stdout",
          "text": [
            "[3, 2, 5]\n",
            "[]\n",
            "[3, 2, 5, 4, 5, 6]\n",
            "[4, 8, 6]\n",
            "[8, 6]\n",
            "[8, 6, 10]\n",
            "[1, 2, 4, 9]\n",
            "[9, 4, 2, 1]\n",
            "[4, 10, 8]\n",
            "[4, 10, 8, 8]\n",
            "[4, 10, 8]\n"
          ]
        }
      ]
    },
    {
      "cell_type": "code",
      "source": [
        "#list [1,2,3]: 값 수정, 삭제, 추가 가능\n",
        "#tuple (1,2,3): 값 수정, 삭제, 추가 불가능\n",
        "\n",
        "t1= (1,2,3)\n",
        "#del t1[0]\n",
        "#t1[0] = 5\n",
        "print(t1[1:])\n",
        "print(t1[0])"
      ],
      "metadata": {
        "colab": {
          "base_uri": "https://localhost:8080/"
        },
        "id": "Y6ODrrN46_m1",
        "outputId": "b8120cbd-f5f9-4bba-9515-8b353c8f2814"
      },
      "execution_count": null,
      "outputs": [
        {
          "output_type": "stream",
          "name": "stdout",
          "text": [
            "(2, 3)\n",
            "1\n"
          ]
        }
      ]
    },
    {
      "cell_type": "code",
      "source": [
        "# dictionary : 사전, (word : meaning)// {}\n",
        "grade = {'jian':98, 'mk':95}\n",
        "print(grade['jian'])\n",
        "print(grade['mk'])\n",
        "print(grade.keys())\n",
        "print(grade.values())\n",
        "grade.clear()\n",
        "print(grade)"
      ],
      "metadata": {
        "colab": {
          "base_uri": "https://localhost:8080/"
        },
        "id": "FE1AeUF4BUDy",
        "outputId": "8adaf175-4c83-4313-e118-2971b242fa0e"
      },
      "execution_count": null,
      "outputs": [
        {
          "output_type": "stream",
          "name": "stdout",
          "text": [
            "98\n",
            "95\n",
            "dict_keys(['jian', 'mk'])\n",
            "dict_values([98, 95])\n",
            "{}\n"
          ]
        }
      ]
    },
    {
      "cell_type": "code",
      "source": [
        "\n",
        "import numpy as np\n",
        "# export : 수출 하다. // im/in :/ import : 가져오다.\n",
        "#number + py : numpy (수학/과학 계산)\n",
        "#library : 도서관 \n",
        "#as : ~로 /(별명)\n",
        "\n",
        "# list [a,b,c,d]\n",
        "# array: 배열 (1,2,3,4)\n",
        "\n",
        "a=np.array([1,2,3,4])\n",
        "print(type(a))\n",
        "print(len(a))\n",
        "#classname.함수()\n",
        "#np.array()\n",
        "\n",
        "a=[1,2,3]\n",
        "b=[-1,-2,-3]\n",
        "c= []\n",
        "\n",
        "for i,j in zip(a,b):\n",
        "  c.append(a+b)\n",
        "#print(c)\n",
        "\n",
        "#datatype=dtype\n",
        "b=np.array([0.1,0.2,0.3])\n",
        "print(b.dtype)\n",
        "print(type(b[0]))\n",
        "\n",
        "#astype = as :~ 로, \n",
        "c = np.array([1.1,1.2,1.3])\n",
        "print(c.dtype)\n",
        "d=c.astype(np.int64)\n",
        "print(d)\n",
        "\n",
        "A= np.array([[1,2,3],[4,5,6]])\n",
        "#dimension: 차원\n",
        "print(A.ndim)\n",
        "#shape: 모양, 형태\n",
        "print(A.shape)\n",
        "#size: 갯수\n",
        "print(A.size)\n",
        "print(A.dtype)\n",
        "\n",
        "b=np.array([1,2,3,4])\n",
        "# max : 가장 큰 값\n",
        "print(b.max())\n",
        "#min : minimun : 작은 값\n",
        "print(b.min())\n",
        "#sum: 합하다.add all.\n",
        "print(b.sum())\n",
        "#mean: 평균\n",
        "print(b.mean())\n",
        "\n",
        "c=np.array([[1,2],[3,4]])\n",
        "#축: axis\n",
        "print(c.sum(axis=0))\n",
        "print(c.sum(axis=1))\n",
        "\n"
      ],
      "metadata": {
        "id": "VRiRZYGFCXLQ",
        "colab": {
          "base_uri": "https://localhost:8080/"
        },
        "outputId": "d7605ef4-73c2-4a8a-f52b-5d69bdd8f473"
      },
      "execution_count": 39,
      "outputs": [
        {
          "output_type": "stream",
          "name": "stdout",
          "text": [
            "<class 'numpy.ndarray'>\n",
            "4\n",
            "float64\n",
            "<class 'numpy.float64'>\n",
            "float64\n",
            "[1 1 1]\n",
            "2\n",
            "(2, 3)\n",
            "6\n",
            "int64\n",
            "4\n",
            "1\n",
            "10\n",
            "2.5\n",
            "[4 6]\n",
            "[3 7]\n"
          ]
        }
      ]
    },
    {
      "cell_type": "code",
      "source": [
        "\n",
        "mclass Calculator:\n",
        "  def __init__ (self):\n",
        "    self.result = 0\n",
        "  def add(self,num):\n",
        "    self.result += num\n",
        "    return self.result\n",
        "  \n",
        "  def minus(self, num):\n",
        "    self.result -=num\n",
        "    return self.result\n",
        "    \n",
        "  \n",
        "jian = Calculator()\n",
        "print(jian.result)\n",
        "mk=Calculator()\n",
        "print(mk.result)\n",
        "\n",
        "print(jian.add(3))\n",
        "print(mk.add(1))\n",
        "\n",
        "print(jian.minus(2))\n",
        "print(mk.minus(1))"
      ],
      "metadata": {
        "colab": {
          "base_uri": "https://localhost:8080/",
          "height": 0
        },
        "id": "ix_JU7He8so4",
        "outputId": "e05cf4a1-2fe0-4989-a26f-af8828ea24c2"
      },
      "execution_count": 10,
      "outputs": [
        {
          "output_type": "stream",
          "name": "stdout",
          "text": [
            "0\n",
            "0\n",
            "3\n",
            "1\n",
            "1\n",
            "0\n"
          ]
        }
      ]
    },
    {
      "cell_type": "code",
      "source": [
        "for i in [1,2,3]:\n",
        "  print(i+3)\n",
        "\n",
        "a[1,2,3]\n",
        "a.append(9)\n",
        "print(a)\n",
        "a.remove(3)"
      ],
      "metadata": {
        "colab": {
          "base_uri": "https://localhost:8080/",
          "height": 0
        },
        "id": "IIfQIGpF93h0",
        "outputId": "de6f0cf8-ca32-4d80-a392-72b4538ca3e4"
      },
      "execution_count": 14,
      "outputs": [
        {
          "output_type": "stream",
          "name": "stdout",
          "text": [
            "4\n",
            "5\n",
            "6\n"
          ]
        }
      ]
    },
    {
      "cell_type": "code",
      "source": [
        ""
      ],
      "metadata": {
        "id": "Ifz0YkkcB8IV"
      },
      "execution_count": null,
      "outputs": []
    }
  ]
}