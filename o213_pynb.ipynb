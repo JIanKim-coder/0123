{
  "nbformat": 4,
  "nbformat_minor": 0,
  "metadata": {
    "colab": {
      "name": "o213.pynb",
      "provenance": [],
      "collapsed_sections": []
    },
    "kernelspec": {
      "name": "python3",
      "display_name": "Python 3"
    },
    "language_info": {
      "name": "python"
    }
  },
  "cells": [
    {
      "cell_type": "code",
      "execution_count": 3,
      "metadata": {
        "colab": {
          "base_uri": "https://localhost:8080/"
        },
        "id": "7OLy2kJJBlb9",
        "outputId": "103bdc2e-43a4-424d-d95a-a0fe0bba8091"
      },
      "outputs": [
        {
          "output_type": "stream",
          "name": "stdout",
          "text": [
            "[0, 1, 2, 3, 4, 5]\n",
            "[50, 52, 54, 56, 58, 60]\n"
          ]
        }
      ],
      "source": [
        "#공부한 시간/실제 성적 인공지능 예측 : 모델링\n",
        "#공부한 시간 (0시간, 1시간, 2시간, 3시간, 4시간, 5시간)\n",
        "X=[i for i in range(6)]\n",
        "print(X)\n",
        "# 0시간 ==>50점\n",
        "# 시험 점수(Y) <== 공부 시간(X)\n",
        "# 점수 향상 폭(기울기)\n",
        "a=2\n",
        "# 기본 값 ( y절편)\n",
        "b=50\n",
        "Y = [(a*x) + b for x in X]\n",
        "print(Y)"
      ]
    },
    {
      "cell_type": "code",
      "source": [
        "#range: 범위, 마지막 지점\n",
        "#0~ 지정숫자 미만\n",
        "[i for i in range(6)]\n",
        "print(i)"
      ],
      "metadata": {
        "colab": {
          "base_uri": "https://localhost:8080/"
        },
        "id": "TMDmEaIxBwhA",
        "outputId": "5ec6dcdc-d3d5-48ed-8744-ca1dfda1aede"
      },
      "execution_count": 2,
      "outputs": [
        {
          "output_type": "stream",
          "name": "stdout",
          "text": [
            "5\n"
          ]
        }
      ]
    },
    {
      "cell_type": "code",
      "source": [
        "X = [i for i in range(6)]\n",
        "print('X:',X)\n",
        "Y1 = [(5*x)+20 for x in X]\n",
        "Y2 = [(10*x)+20 for x in X]\n",
        "Y3 = [(20*x)+20 for x in X]\n",
        "print('Y2: ', Y2)\n",
        "print('Y2: ', Y2)\n",
        "print('Y3:', Y3)"
      ],
      "metadata": {
        "colab": {
          "base_uri": "https://localhost:8080/"
        },
        "id": "R2AFB95yEBxs",
        "outputId": "17e4e309-cb76-4e4c-ec05-02630f7e93f3"
      },
      "execution_count": 8,
      "outputs": [
        {
          "output_type": "stream",
          "name": "stdout",
          "text": [
            "X: [0, 1, 2, 3, 4, 5]\n",
            "Y2:  [20, 30, 40, 50, 60, 70]\n",
            "Y2:  [20, 30, 40, 50, 60, 70]\n",
            "Y3: [20, 40, 60, 80, 100, 120]\n"
          ]
        }
      ]
    },
    {
      "cell_type": "code",
      "source": [
        "# library : 도서관 : 책 : 자료: 정보(코드)\n",
        "# math + plot (차트) + library\n",
        "import matplotlib\n",
        "#python plot(차트)\n",
        "#as : ~로 불러줘(별명)\n",
        "import matplotlib.pyplot as plt\n",
        "# x값 = 매개변수=parameter\n",
        "#input ==> figure\n",
        "#가로로 8인치, 세로로 3인치\n",
        "plt.figure(figsize=(8,3))\n",
        "plt.plot(X,Y1,color='red', linestyle='solid',marker='o',label='A 예측')\n",
        "plt.plot(X,Y2,color='green', linestyle='solid',marker='o',label='B 예측')\n",
        "plt.plot(X,Y3,color='blue', linestyle='solid',marker='o',label='C 예측')\n",
        "plt.grid(True)\n",
        "plt.title('study score')\n",
        "plt.xlabel('study time')\n",
        "plt.ylabel('score')\n",
        "plt.show()"
      ],
      "metadata": {
        "colab": {
          "base_uri": "https://localhost:8080/",
          "height": 241
        },
        "id": "go8lrGXNB8wE",
        "outputId": "a73ee3cb-9305-478b-b0dd-6e6592ef288e"
      },
      "execution_count": 22,
      "outputs": [
        {
          "output_type": "display_data",
          "data": {
            "image/png": "[encoded data removed]",
            "text/plain": [
              "<Figure size 576x216 with 1 Axes>"
            ]
          },
          "metadata": {
            "needs_background": "light"
          }
        }
      ]
    },
    {
      "cell_type": "code",
      "source": [
        "Y = 2*6 +20\n",
        "print('6시간 공부한 경우의 예측값', Y, '점')"
      ],
      "metadata": {
        "colab": {
          "base_uri": "https://localhost:8080/"
        },
        "id": "wOB1xjPSHG-7",
        "outputId": "313ade7f-75c8-43d5-b730-c521780a8926"
      },
      "execution_count": 23,
      "outputs": [
        {
          "output_type": "stream",
          "name": "stdout",
          "text": [
            "6시간 공부한 경우의 예측값 32 점\n"
          ]
        }
      ]
    },
    {
      "cell_type": "code",
      "source": [
        "X = [i for i in range(6)]\n",
        "a =2\n",
        "b = 50\n",
        "p = [(a*x)+b for x in X]\n",
        "print(X)\n",
        "print(p)"
      ],
      "metadata": {
        "colab": {
          "base_uri": "https://localhost:8080/"
        },
        "id": "rX9N0JjeJSsQ",
        "outputId": "eb3d4ad9-4361-40ac-a830-a17d3b4d3e7b"
      },
      "execution_count": 25,
      "outputs": [
        {
          "output_type": "stream",
          "name": "stdout",
          "text": [
            "[0, 1, 2, 3, 4, 5]\n",
            "[50, 52, 54, 56, 58, 60]\n"
          ]
        }
      ]
    },
    {
      "cell_type": "code",
      "source": [
        "plt.figure(figsize=(8,3))\n",
        "plt.plot(X, p, color='red', linestyle='solid', marker='o')\n",
        "plt.grid(True)\n",
        "plt.show()"
      ],
      "metadata": {
        "colab": {
          "base_uri": "https://localhost:8080/",
          "height": 211
        },
        "id": "kKfnOt2ZJxyT",
        "outputId": "991acec3-5dfe-435a-bf85-0ff4f904486b"
      },
      "execution_count": 31,
      "outputs": [
        {
          "output_type": "display_data",
          "data": {
            "image/png": "[encoded data removed]",
            "text/plain": [
              "<Figure size 576x216 with 1 Axes>"
            ]
          },
          "metadata": {
            "needs_background": "light"
          }
        }
      ]
    },
    {
      "cell_type": "code",
      "source": [
        "import copy\n",
        "\n",
        "r = copy.deepcopy(p)\n",
        "\n",
        "r[3] = r[3] + 6\n",
        "print('실제 성적',r)"
      ],
      "metadata": {
        "colab": {
          "base_uri": "https://localhost:8080/"
        },
        "id": "VSlg1qlJKI66",
        "outputId": "a25db856-8532-4f9e-cb73-9962ef855014"
      },
      "execution_count": 29,
      "outputs": [
        {
          "output_type": "stream",
          "name": "stdout",
          "text": [
            "실제 성적 [50, 52, 54, 62, 58, 60]\n"
          ]
        }
      ]
    },
    {
      "cell_type": "code",
      "source": [
        "# 오차\n",
        "err = 0\n",
        "for i in range(6):\n",
        "  fmt = '공부한 시간{0}, 예측성적{1}, 실제 성적 {2}, 오차{3}'\n",
        "  print(fmt.format(X[i],p[i],r[i],r[i]-p[i]))\n",
        "  err = err +(r[i]-p[i])\n",
        "print('오차',err)"
      ],
      "metadata": {
        "colab": {
          "base_uri": "https://localhost:8080/"
        },
        "id": "3jv6SAmUKdgz",
        "outputId": "1c348448-8ff0-4061-a97f-2c464c73cac3"
      },
      "execution_count": 30,
      "outputs": [
        {
          "output_type": "stream",
          "name": "stdout",
          "text": [
            "공부한 시간0, 예측성적50, 실제 성적 50, 오차0\n",
            "공부한 시간1, 예측성적52, 실제 성적 52, 오차0\n",
            "공부한 시간2, 예측성적54, 실제 성적 54, 오차0\n",
            "공부한 시간3, 예측성적56, 실제 성적 62, 오차6\n",
            "공부한 시간4, 예측성적58, 실제 성적 58, 오차0\n",
            "공부한 시간5, 예측성적60, 실제 성적 60, 오차0\n",
            "오차 6\n"
          ]
        }
      ]
    },
    {
      "cell_type": "code",
      "source": [
        "plt.figure(figsize=(8,3))\n",
        "plt.plot(X, p, color='red', linestyle='solid', marker='o')\n",
        "plt.plot(X, r, color='blue', linestyle='solid', marker='o')\n",
        "plt.grid(True)\n",
        "plt.show()"
      ],
      "metadata": {
        "colab": {
          "base_uri": "https://localhost:8080/",
          "height": 211
        },
        "id": "OQY7AnkALam8",
        "outputId": "7e166c41-8ba2-4aa0-c71d-d76225c4aef9"
      },
      "execution_count": 33,
      "outputs": [
        {
          "output_type": "display_data",
          "data": {
            "image/png": "[encoded data removed]",
            "text/plain": [
              "<Figure size 576x216 with 1 Axes>"
            ]
          },
          "metadata": {
            "needs_background": "light"
          }
        }
      ]
    },
    {
      "cell_type": "code",
      "source": [
        "import copy\n",
        "\n",
        "X=[i for i in range(6)]\n",
        "print('데이터', X)\n",
        "a=2\n",
        "b=50\n",
        "p=[(a*x)+b for x in X]\n",
        "print('예측한 값', p)\n",
        "r=copy.deepcopy(p)\n",
        "r[3] = r[3] +6\n",
        "r[4] = r[4]-6\n",
        "print('실제 얻은 점수', r)"
      ],
      "metadata": {
        "colab": {
          "base_uri": "https://localhost:8080/"
        },
        "id": "HkcQMJPkLuU7",
        "outputId": "6e1be448-7a21-40f2-faba-2cd2873d8630"
      },
      "execution_count": 35,
      "outputs": [
        {
          "output_type": "stream",
          "name": "stdout",
          "text": [
            "데이터 [0, 1, 2, 3, 4, 5]\n",
            "예측한 값 [50, 52, 54, 56, 58, 60]\n",
            "실제 얻은 점수 [50, 52, 54, 62, 52, 60]\n"
          ]
        }
      ]
    },
    {
      "cell_type": "code",
      "source": [
        "# 오차\n",
        "err = 0\n",
        "for i in range(6):\n",
        "  fmt = '공부한 시간{0}, 예측성적{1}, 실제 성적 {2}, 오차{3}'\n",
        "  print(fmt.format(X[i],p[i],r[i],r[i]-p[i]))\n",
        "  err = err +(r[i]-p[i])\n",
        "print('오차',err)"
      ],
      "metadata": {
        "colab": {
          "base_uri": "https://localhost:8080/"
        },
        "id": "yLtJIoseMaQ0",
        "outputId": "b7d53012-0f56-43e2-969a-8bff6dd062fe"
      },
      "execution_count": 36,
      "outputs": [
        {
          "output_type": "stream",
          "name": "stdout",
          "text": [
            "공부한 시간0, 예측성적50, 실제 성적 50, 오차0\n",
            "공부한 시간1, 예측성적52, 실제 성적 52, 오차0\n",
            "공부한 시간2, 예측성적54, 실제 성적 54, 오차0\n",
            "공부한 시간3, 예측성적56, 실제 성적 62, 오차6\n",
            "공부한 시간4, 예측성적58, 실제 성적 52, 오차-6\n",
            "공부한 시간5, 예측성적60, 실제 성적 60, 오차0\n",
            "오차 0\n"
          ]
        }
      ]
    },
    {
      "cell_type": "code",
      "source": [
        "data = [[0,79],[2, 81],[4,93],[6,91],[8,97]]\n",
        "for row in data:\n",
        "  print(row)\n",
        "X = [row[0] for row in data]\n",
        "R = [row[1] for row in data]\n",
        "print(X)\n",
        "print(R)"
      ],
      "metadata": {
        "colab": {
          "base_uri": "https://localhost:8080/"
        },
        "id": "J1PuBJb0MiTY",
        "outputId": "542b2ddf-db6c-4eef-f6df-0b0993e34121"
      },
      "execution_count": 38,
      "outputs": [
        {
          "output_type": "stream",
          "name": "stdout",
          "text": [
            "[0, 79]\n",
            "[2, 81]\n",
            "[4, 93]\n",
            "[6, 91]\n",
            "[8, 97]\n",
            "[0, 2, 4, 6, 8]\n",
            "[79, 81, 93, 91, 97]\n"
          ]
        }
      ]
    },
    {
      "cell_type": "code",
      "source": [
        "import numpy as np\n",
        "X = np.array(data)[:,0]\n",
        "R= np.array(data)[:,1]\n",
        "#처음서부터 1까지\n",
        "#data [:1]\n",
        "#1부터 끝까지\n",
        "#data[1:]\n",
        "# 처음서부터 끝까지 \n",
        "#data[:]\n",
        "print(X)\n",
        "print(R)"
      ],
      "metadata": {
        "colab": {
          "base_uri": "https://localhost:8080/"
        },
        "id": "jKQkl3thNS1z",
        "outputId": "13018bc6-9000-4cfa-e7af-39c6253f134d"
      },
      "execution_count": 39,
      "outputs": [
        {
          "output_type": "stream",
          "name": "stdout",
          "text": [
            "[0 2 4 6 8]\n",
            "[79 81 93 91 97]\n"
          ]
        }
      ]
    },
    {
      "cell_type": "code",
      "source": [
        "plt.figure(figsize=(8,3))\n",
        "plt.plot(X, R, color='red', linestyle='solid', marker='o')\n",
        "plt.grid(True)\n",
        "plt.show()"
      ],
      "metadata": {
        "colab": {
          "base_uri": "https://localhost:8080/",
          "height": 212
        },
        "id": "7py_tIvjOjoS",
        "outputId": "05b49592-0292-43cf-b2f5-ba934d378fa0"
      },
      "execution_count": 41,
      "outputs": [
        {
          "output_type": "display_data",
          "data": {
            "image/png": "[encoded data removed]",
            "text/plain": [
              "<Figure size 576x216 with 1 Axes>"
            ]
          },
          "metadata": {
            "needs_background": "light"
          }
        }
      ]
    },
    {
      "cell_type": "code",
      "source": [
        "a=1.3\n",
        "b=70\n",
        "p_list = []\n",
        "err_tot=0\n",
        "\n",
        "for i in range(len(X)):\n",
        "  p = a*X[i]+b\n",
        "  p_list.append(p)\n",
        "  err = p - R[i]\n",
        "  err_tot = err_tot+err\n",
        "  fmt = '공부시간 {0}, 예측값 {1:.3f}, 실제값 {2}, 오차 : {3:.3f}'\n",
        "  print(fmt.format(X[i],p,R[i], err))\n",
        "\n",
        "print('순수 오차의 합: ',err_tot)"
      ],
      "metadata": {
        "colab": {
          "base_uri": "https://localhost:8080/"
        },
        "id": "50r_X6NYOyhm",
        "outputId": "caed3302-df16-4b50-ba31-a07eddc134ea"
      },
      "execution_count": 45,
      "outputs": [
        {
          "output_type": "stream",
          "name": "stdout",
          "text": [
            "공부시간 0, 예측값 70.000, 실제값 79, 오차 : -9.000\n",
            "공부시간 2, 예측값 72.600, 실제값 81, 오차 : -8.400\n",
            "공부시간 4, 예측값 75.200, 실제값 93, 오차 : -17.800\n",
            "공부시간 6, 예측값 77.800, 실제값 91, 오차 : -13.200\n",
            "공부시간 8, 예측값 80.400, 실제값 97, 오차 : -16.600\n",
            "순수 오차의 합:  -65.0\n"
          ]
        }
      ]
    },
    {
      "cell_type": "code",
      "source": [
        "plt.figure(figsize=(8,3))\n",
        "plt.plot(X, R, color='red', linestyle='solid', marker='o')\n",
        "plt.plot(X, p_list, color='blue', linestyle='solid', marker='o')\n",
        "plt.grid(True)\n",
        "plt.show()"
      ],
      "metadata": {
        "colab": {
          "base_uri": "https://localhost:8080/",
          "height": 211
        },
        "id": "BC4b4RzfP9cr",
        "outputId": "d7cd9ae1-5fcb-4059-de84-25e72be5b8e6"
      },
      "execution_count": 44,
      "outputs": [
        {
          "output_type": "display_data",
          "data": {
            "image/png": "[encoded data removed]",
            "text/plain": [
              "<Figure size 576x216 with 1 Axes>"
            ]
          },
          "metadata": {
            "needs_background": "light"
          }
        }
      ]
    },
    {
      "cell_type": "code",
      "source": [
        "plt.figure(figsize=(8,3))\n",
        "plt.plot(X, R, color='red', linestyle='solid', marker='o')\n",
        "plt.plot(X, p_list, color='blue', linestyle='solid', marker='o')\n",
        "plt.grid(True)\n",
        "plt.show()"
      ],
      "metadata": {
        "colab": {
          "base_uri": "https://localhost:8080/",
          "height": 211
        },
        "id": "eM53o12oQloE",
        "outputId": "a9f3ea94-4095-4967-c2a0-4b447d49016e"
      },
      "execution_count": 46,
      "outputs": [
        {
          "output_type": "display_data",
          "data": {
            "image/png": "[encoded data removed]",
            "text/plain": [
              "<Figure size 576x216 with 1 Axes>"
            ]
          },
          "metadata": {
            "needs_background": "light"
          }
        }
      ]
    },
    {
      "cell_type": "code",
      "source": [
        "a=2.30001\n",
        "b=79\n",
        "p_list = []\n",
        "err_tot=0\n",
        "\n",
        "for i in range(len(X)):\n",
        "  p = a*X[i]+b\n",
        "  p_list.append(p)\n",
        "  err = p - R[i]\n",
        "  err_tot = err_tot+err\n",
        "  fmt = '공부시간 {0}, 예측값 {1:.3f}, 실제값 {2}, 오차 : {3:.3f}'\n",
        "  print(fmt.format(X[i],p,R[i], err))\n",
        "\n",
        "print('순수 오차의 합: ',err_tot)"
      ],
      "metadata": {
        "colab": {
          "base_uri": "https://localhost:8080/"
        },
        "id": "KL_8sMvnRLFx",
        "outputId": "57259d46-3837-42b7-fcfe-827c95b65b42"
      },
      "execution_count": 47,
      "outputs": [
        {
          "output_type": "stream",
          "name": "stdout",
          "text": [
            "공부시간 0, 예측값 79.000, 실제값 79, 오차 : 0.000\n",
            "공부시간 2, 예측값 83.600, 실제값 81, 오차 : 2.600\n",
            "공부시간 4, 예측값 88.200, 실제값 93, 오차 : -4.800\n",
            "공부시간 6, 예측값 92.800, 실제값 91, 오차 : 1.800\n",
            "공부시간 8, 예측값 97.400, 실제값 97, 오차 : 0.400\n",
            "순수 오차의 합:  0.0002000000000066393\n"
          ]
        }
      ]
    },
    {
      "cell_type": "code",
      "source": [
        "plt.figure(figsize=(8,3))\n",
        "plt.plot(X, R, color='red', linestyle='solid', marker='o')\n",
        "plt.plot(X, p_list, color='blue', linestyle='solid', marker='o')\n",
        "plt.grid(True)\n",
        "plt.show()"
      ],
      "metadata": {
        "colab": {
          "base_uri": "https://localhost:8080/",
          "height": 211
        },
        "id": "Ag6hZntRRZ5m",
        "outputId": "aa120e66-a481-4989-a35c-7c3eba1c5d93"
      },
      "execution_count": 48,
      "outputs": [
        {
          "output_type": "display_data",
          "data": {
            "image/png": "[encoded data removed]",
            "text/plain": [
              "<Figure size 576x216 with 1 Axes>"
            ]
          },
          "metadata": {
            "needs_background": "light"
          }
        }
      ]
    },
    {
      "cell_type": "code",
      "source": [
        "# mse = mean squared eroor\n",
        "def mse(p,r):\n",
        "  #**=제곱\n",
        "  se = (p-r) ** 2\n",
        "  mse = se.mean()\n",
        "  return mse"
      ],
      "metadata": {
        "id": "WSDAwYIaRlc_"
      },
      "execution_count": 49,
      "outputs": []
    },
    {
      "cell_type": "code",
      "source": [
        "mse_val = mse(np.array(p_list), np.array(R))\n",
        "print('mse오차 : {0:.3f}'.format(mse_val))"
      ],
      "metadata": {
        "colab": {
          "base_uri": "https://localhost:8080/"
        },
        "id": "xeZtR1azSLE3",
        "outputId": "a0439507-d0a1-4c42-86c1-2e2c196ab054"
      },
      "execution_count": 51,
      "outputs": [
        {
          "output_type": "stream",
          "name": "stdout",
          "text": [
            "mse오차 : 6.640\n"
          ]
        }
      ]
    },
    {
      "cell_type": "code",
      "source": [
        "print('mse: {0:3f}, rmse:{1:3f}'.format(mse_val, np.sqrt(mse_val)))\n"
      ],
      "metadata": {
        "colab": {
          "base_uri": "https://localhost:8080/"
        },
        "id": "o_Gu6DUASeh5",
        "outputId": "d29fe60b-09dd-4a29-850f-9cb8e63af9e9"
      },
      "execution_count": 52,
      "outputs": [
        {
          "output_type": "stream",
          "name": "stdout",
          "text": [
            "mse: 6.640000, rmse:2.576820\n"
          ]
        }
      ]
    },
    {
      "cell_type": "code",
      "source": [
        ""
      ],
      "metadata": {
        "id": "dFFAvA-kTCc7"
      },
      "execution_count": null,
      "outputs": []
    }
  ]
}